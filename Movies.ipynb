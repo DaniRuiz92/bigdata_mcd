{
 "cells": [
  {
   "cell_type": "code",
   "execution_count": null,
   "metadata": {
    "collapsed": true
   },
   "outputs": [],
   "source": [
    "import pandas as pd\n",
    "\n",
    "\n",
    "url_users = 'https://raw.githubusercontent.com/wesm/pydata-book/master/ch02/movielens/users.dat'\n",
    "url_ratings = 'https://raw.githubusercontent.com/wesm/pydata-book/master/ch02/movielens/ratings.dat'\n",
    "url_movies = 'https://raw.githubusercontent.com/wesm/pydata-book/master/ch02/movielens/movies.dat'\n",
    "\n",
    "users = pd.read_csv(url_users,header=None, delimiter=\"::\").rename(columns={0:'userid', 1:'gender', 2: 'age', 3: 'occupation', 4:'zipcode'})\n",
    "ratings = pd.read_csv(url_ratings,header=None, delimiter=\"::\").rename(columns={0: 'userid', 1: 'movieid', 2: 'rating', 3:'timestamp'})\n",
    "movie = pd.read_csv(url_movies,header=None, delimiter=\"::\").rename(columns={0: 'movieid', 1: 'title', 2: 'genre'})\n",
    "\n",
    "merged = pd.merge(ratings,movie, on=['movieid'])\n",
    "merged = pd.merge(merged,users,on=['userid'])\n",
    "data = merged.copy()\n",
    "\n",
    "del users, ratings, movie, url_users, url_ratings, url_movies, merged"
   ]
  }
 ],
 "metadata": {
  "kernelspec": {
   "display_name": "Python [conda root]",
   "language": "python",
   "name": "conda-root-py"
  },
  "language_info": {
   "codemirror_mode": {
    "name": "ipython",
    "version": 3
   },
   "file_extension": ".py",
   "mimetype": "text/x-python",
   "name": "python",
   "nbconvert_exporter": "python",
   "pygments_lexer": "ipython3",
   "version": "3.5.3"
  },
  "widgets": {
   "state": {},
   "version": "1.1.2"
  }
 },
 "nbformat": 4,
 "nbformat_minor": 2
}
